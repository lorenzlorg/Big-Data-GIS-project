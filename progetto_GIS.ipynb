{
 "cells": [
  {
   "cell_type": "markdown",
   "metadata": {
    "id": "raMU4Kma9drp",
    "pycharm": {
     "name": "#%% md\n"
    }
   },
   "source": [
    "# Progetto Big Data in Geographic Information Systems"
   ]
  },
  {
   "cell_type": "markdown",
   "metadata": {
    "id": "ch99iY829drv"
   },
   "source": [
    "Analyze and compare two geospatial datasets  \n",
    "The choice of the datasets is free, but a few constraints must be observed.  \n",
    "\t• Use at least 2 different datasets (e.g. model and observations, n different models, 2 different observational datasets, etc.)  \n",
    "\t• Perform at least 1 operation in space and 1 operation in time (e.g. aggregation, normalization, resampling, regridding, etc.)  \n",
    "\t• Display data both as a function of space and time (time series and maps)  \n",
    "\t• Apply some sort of statistical analysis on the data (arrange the data according to some pdf, hypothesis testing, time series analysis, detection of trends, classification, pattern detection, ...)"
   ]
  },
  {
   "cell_type": "markdown",
   "metadata": {},
   "source": [
    "# Indice\n",
    "* [Setting](#setting)\n",
    "* [Lettura dataset](#lettura-dataset)\n",
    "    * [Dataset Sea Surface Temperature](#dataset-sst)\n",
    "    * [Dataset Ice Concentration](#dataset-icec)\n",
    "* [Esplorazione dataset Sea Surface Temperature](#espl-sst)\n",
    "    * [Caratteristiche principali](#car-pr-sst)\n",
    "    * [Distribuzione della variabile sst](#dist-sst)\n",
    "    * [Confronto gennaio 1982 - gennaio 2022](#gennaio-sst)\n",
    "    * [Sea Surface Temperature Anomaly map](#anom-map-sst)\n",
    "    * [Sea Surface Temperature Anomaly](#anom-sst)\n",
    "    * [Focus sulle aree polari](#aree-polari-sst)\n",
    "    * [Analisi serie storiche](#serie-sst)\n",
    "* [Esplorazione dataset Ice Concentration](#espl-icec)\n",
    "    * [Caratteristiche principali](#car-pr-icec)\n",
    "    * [Distribuzione della variabile icec](#dist-icec)\n",
    "    * [Confronto gennaio 1982 - gennaio 2022](#gennaio-icec)\n",
    "    * [Ice Concentration Anomaly map](#anom-map-icec)\n",
    "    * [Comparazione Northen e Southern Hemisphere Ice Concentration Anomaly](#emis)\n",
    "    * [Focus sulle aree polari](#aree-polari-icec)\n",
    "    * [Analisi serie storiche](#serie-icec)\n",
    "      * [Polo Nord](#nord)\n",
    "      * [Polo Sud](#sud)\n",
    "* [Sea Surface Temperature data e Ice Concentration data](#correlation-data)\n",
    "    * [Global Sea Surface Temperature e Ice Concentration Anomaly](#global)\n",
    "    * [Correlazione tra Sea Surface Temperature e Ice Concentration](#correlazione)"
   ]
  },
  {
   "cell_type": "markdown",
   "metadata": {
    "id": "hf-t3JiG9drw"
   },
   "source": [
    "# Setting <a class=\"anchor\" id=\"setting\"></a>"
   ]
  },
  {
   "cell_type": "code",
   "execution_count": null,
   "metadata": {
    "colab": {
     "base_uri": "https://localhost:8080/",
     "height": 383
    },
    "id": "qMSCWg5b9drx",
    "outputId": "b9b72c4d-0258-4f38-e44f-7b135a13e10b",
    "pycharm": {
     "name": "#%%\n"
    }
   },
   "outputs": [],
   "source": [
    "import numpy as np\n",
    "import seaborn as sns\n",
    "import cmocean\n",
    "import cartopy.crs as ccrs\n",
    "from matplotlib import pyplot as plt\n",
    "import cartopy.feature as cfeature\n",
    "import xarray as xr\n",
    "import matplotlib as mpl\n",
    "from prophet import Prophet\n",
    "from prophet.plot import add_changepoints_to_plot\n",
    "import pandas as pd\n",
    "from numpy.random import seed\n",
    "from scipy.stats import pearsonr\n",
    "from numpy.random import randn\n",
    "import hvplot.xarray\n",
    "import datetime\n",
    "import warnings\n",
    "from IPython.display import Image\n",
    "seed(1)\n",
    "\n",
    "%matplotlib inline\n",
    "%config InlinedBackend.figure_format = 'retina'\n",
    "warnings.simplefilter(action='ignore')"
   ]
  },
  {
   "cell_type": "markdown",
   "metadata": {
    "id": "uqqchmUR9dry",
    "pycharm": {
     "name": "#%% md\n"
    }
   },
   "source": [
    "# Lettura dataset <a class=\"anchor\" id=\"lettura-dataset\"></a>"
   ]
  },
  {
   "cell_type": "markdown",
   "metadata": {
    "id": "cstPWRP19dry"
   },
   "source": [
    "La National Oceanic and Atmospheric Administration (NOAA) è una agenzia federale statunitense che si interessa di oceanografia, meteorologia e climatologia.\n",
    "\n",
    "La Ricerca Oceanica e Atmosferica (OAR o NOAA Research) è una divisione della National Oceanic and Atmospheric Administration.\n",
    "\n",
    "Tra i dieci laboratori di ricerca della OAR vi è il NOAA Physical Sciences Laboratory (PSL).\n",
    "\n",
    "Il NOAA PSL ha collezionato e reso disponibili i file netCDF (a livello settimanale e mensile) NOAA OI SST V2 (NOAA Optimum Interpolation Sea Surface Temperature V2).\n",
    "\n",
    "I dati considerati nel progetto sono a granularità mensile.\n",
    "\n",
    "I dati sono relativi a temperature superficiali del mare e a percentuali di concentrazione di ghiaccio nelle aree oceaniche. \n",
    "\n",
    "Con \"temperatura superficiale\" del mare si intende da 1 mm a 20 m sotto il livello della superficie del mare, a seconda del metodo di misurazione utilizzato.  I valori di tale temperatura sono molto rilevanti dal momento in cui le masse d'aria nell'atmosfera terrestre sono fortemente influenzate dalla temperatura della superficie del mare che viene cosi a costituire una cosidetta \"forzante\" della circolazione atmosferica.\n",
    "\n",
    "Le aree oceaniche coperte parzialmente di ghiaccio si riferiscono alle porzioni di ghiaccio che fluttuano intorno alle regioni dell'antartide e della regione antartica. Questo ghiaccio interagisce con molti sistemi globali, tra cui l'ecosistema globale. Interagisce anche con il sistema climatico, mantenendo fresche le regioni polari. Non da ultimo queste porzioni di ghiaccio interagiscono anche con gli oceani, per mezzo dei quali vi è una ridistribuzione del calore intorno al globo.\n",
    "\n",
    "info:  \n",
    "https://psl.noaa.gov/data/gridded/data.noaa.oisst.v2.html  \n",
    "https://arctic.noaa.gov/Report-Card"
   ]
  },
  {
   "cell_type": "markdown",
   "metadata": {
    "id": "JBh_uXBv9drz",
    "pycharm": {
     "name": "#%% md\n"
    }
   },
   "source": [
    "## Dataset Sea Surface Temperature <a class=\"anchor\" id=\"dataset-sst\"></a>"
   ]
  },
  {
   "cell_type": "code",
   "execution_count": null,
   "metadata": {
    "id": "4VL1AEP79dr0",
    "outputId": "49dfc653-268f-434d-8b1a-8a28a8a31d81",
    "pycharm": {
     "name": "#%%\n"
    }
   },
   "outputs": [],
   "source": [
    "sst_data = xr.open_dataset('sst.mnmean.nc')  # sea_surface_temperature (degC) - sst\n",
    "\n",
    "# viene applicata una mask per le zone di terra ferma\n",
    "dmask  = xr.open_dataset('lsmask.nc')\n",
    "sst_data['sst'] = sst_data.sst.where(dmask.mask.isel(time=0) == 1)\n",
    "\n",
    "# viene modificata la griglia\n",
    "sst_data.coords['lon'] = (sst_data.coords['lon'] + 180) % 360 - 180\n",
    "sst_data = sst_data.sortby(sst_data.lon)\n",
    "sst_data"
   ]
  },
  {
   "cell_type": "markdown",
   "metadata": {
    "id": "28kbCVKW9dr1",
    "pycharm": {
     "name": "#%% md\n"
    }
   },
   "source": [
    "## Dataset Ice Concentration <a class=\"anchor\" id=\"dataset-icec\"></a>"
   ]
  },
  {
   "cell_type": "code",
   "execution_count": null,
   "metadata": {
    "id": "C5Ljh8rd9dr2",
    "outputId": "6b2e7e8c-ad04-4d16-c704-2c7e97c5193f",
    "pycharm": {
     "name": "#%%\n"
    }
   },
   "outputs": [],
   "source": [
    "icec_data = xr.open_dataset('icec.mnmean.nc')  # Ice Concentration Mean Surface (%) - icec\n",
    "\n",
    "# viene modificata la griglia\n",
    "icec_data.coords['lon'] = (icec_data.coords['lon'] + 180) % 360 - 180\n",
    "icec_data = icec_data.sortby(icec_data.lon)\n",
    "icec_data"
   ]
  },
  {
   "cell_type": "markdown",
   "metadata": {
    "id": "vdbhbN-H9dr2"
   },
   "source": [
    "# Esplorazione dataset Sea Surface Temperature <a class=\"anchor\" id=\"espl-sst\"></a>"
   ]
  },
  {
   "cell_type": "markdown",
   "metadata": {
    "id": "gbYabkhs9dr2"
   },
   "source": [
    "## Caratteristiche principali <a class=\"anchor\" id=\"car-pr-sst\"></a>"
   ]
  },
  {
   "cell_type": "code",
   "execution_count": null,
   "metadata": {
    "id": "6cp-M3d-9dr3",
    "outputId": "7ef89354-920d-496d-bc7e-ec4091d958c7",
    "pycharm": {
     "name": "#%%\n"
    }
   },
   "outputs": [],
   "source": [
    "sst_data.attrs"
   ]
  },
  {
   "cell_type": "code",
   "execution_count": null,
   "metadata": {
    "id": "3ihY2kZA9dr3",
    "outputId": "c16c78ec-63d1-4fc8-8af9-2e8a6b0a23fe",
    "pycharm": {
     "name": "#%%\n"
    }
   },
   "outputs": [],
   "source": [
    "sst_data.sst.min()  # -1.79\n",
    "sst_data.sst.max()  # 35.56"
   ]
  },
  {
   "cell_type": "markdown",
   "metadata": {
    "id": "xjym5l999dr3",
    "pycharm": {
     "name": "#%% md\n"
    }
   },
   "source": [
    "Si hanno i dati della temperatura superificiale del mare con granularità mensile.\n",
    "\n",
    "Viene utilizzato il primo giorno del mese alle ore 00.00.00 per indicare il label del mese.\n",
    "\n",
    "In particolare si hanno i dati mensili da dicembre 1981 ad aprile 2022, per un totale di 485 istanti temporali.\n",
    "\n",
    "La griglia è composta da 180 bande di latitudine (ovvero 180 valori di latitudine) e 360 bande di longitudine.\n",
    "I valori delle variabili di latitudine e longitudine rappresentano i centroidi delle celle che compongono la griglia."
   ]
  },
  {
   "cell_type": "markdown",
   "metadata": {
    "id": "imQzY2SM9dr4"
   },
   "source": [
    "## Distribuzione della variabile sst <a class=\"anchor\" id=\"dist-sst\"></a>"
   ]
  },
  {
   "cell_type": "code",
   "execution_count": null,
   "metadata": {
    "id": "4NIgsMWf9dr4",
    "outputId": "7367691f-4cb6-4437-9026-267f4c5509c2",
    "pycharm": {
     "name": "#%%\n"
    }
   },
   "outputs": [],
   "source": [
    "# sst_data.sst.plot()\n",
    "sst_data.sst.hvplot()\n",
    "\n",
    "# un elevato numero di osservazioni indicano una temperatura superficiale dell'acqua prossima allo zero"
   ]
  },
  {
   "cell_type": "code",
   "execution_count": null,
   "metadata": {
    "id": "AN2mPgHF9dr4",
    "outputId": "d2e21e07-9a23-4112-df12-f4ae85438bf2",
    "pycharm": {
     "name": "#%%\n"
    },
    "tags": []
   },
   "outputs": [],
   "source": [
    "# grafico interattivo per osservare l'andamento della temperatura annualmente a partire dal 1981\n",
    "\n",
    "proj = ccrs.PlateCarree()\n",
    "sst_data.sst.isel(time=slice(0, 485, 12)).hvplot.quadmesh('lon',\n",
    "                                                          'lat',\n",
    "                                                          crs = ccrs.PlateCarree(),\n",
    "                                                          projection=proj,\n",
    "                                                          project=True,\n",
    "                                                          global_extent=True,\n",
    "                                                          rasterize=True,\n",
    "                                                          color='seawater_temperature',\n",
    "                                                          cmap=cmocean.cm.thermal,\n",
    "                                                          dynamic=False,\n",
    "                                                          coastline=True,\n",
    "                                                          frame_width=500,\n",
    "                                                          clim = (-1, 35),\n",
    "                                                          figsize=(10,13))\n",
    "\n",
    "# si notano alcune variazioni, in particolar modo nelle zone temperate e tropicali"
   ]
  },
  {
   "cell_type": "code",
   "execution_count": null,
   "metadata": {
    "id": "XGYiJwEo9dr5",
    "outputId": "812d307c-78e7-4d1e-c7b3-9ba76ba1e107",
    "pycharm": {
     "name": "#%%\n"
    }
   },
   "outputs": [],
   "source": [
    "# temperature medie per ciascun mese\n",
    "\n",
    "sst = sst_data.sst.groupby('time.month').mean('time')  # medie di tutti i mesi per tutti gli anni\n",
    "\n",
    "# grafico interattivo\n",
    "proj = ccrs.PlateCarree()\n",
    "sst.isel(month=slice(0, 12, 1)).hvplot.quadmesh('lon',\n",
    "                                                'lat',\n",
    "                                                crs = ccrs.PlateCarree(),\n",
    "                                                projection=proj,\n",
    "                                                project=True,\n",
    "                                                global_extent=True,\n",
    "                                                rasterize=True,\n",
    "                                                color='seawater_temperature',\n",
    "                                                cmap=cmocean.cm.thermal,\n",
    "                                                dynamic=False,\n",
    "                                                coastline=True,\n",
    "                                                frame_width=500,\n",
    "                                                clim = (-1, 35),\n",
    "                                                figsize=(10,13))\n",
    "\n",
    "# si notano alcune variazioni, in particolar modo nelle zone temperate e tropicali"
   ]
  },
  {
   "cell_type": "code",
   "execution_count": null,
   "metadata": {
    "id": "msoW-Aad9dr5",
    "outputId": "b29f9093-d0ea-4dbb-9335-914e3bab4dca",
    "pycharm": {
     "name": "#%%\n"
    }
   },
   "outputs": [],
   "source": [
    "# si comprime la dimensione del tempo calcolando la media, viene dunque riportata la media della variabile sst lungo la linea del tempo\n",
    "\n",
    "fig = plt.figure(figsize=(14,8))\n",
    "ax = plt.axes(projection=ccrs.PlateCarree())\n",
    "ax.add_feature(cfeature.LAND,zorder=4,color='white')  # al posto di usare il dataset mask, si ottiene una visualizzazione più accurata\n",
    "ax.gridlines(draw_labels=True)\n",
    "sst_data.sst.mean(axis=0).plot(cmap=cmocean.cm.thermal,\n",
    "                               vmin=-1,\n",
    "                               vmax=35)\n",
    "\n",
    "# si osservano come prevedibile temperature elevate nei pressi dell'equatore e prossime allo zero nelle aree polari"
   ]
  },
  {
   "cell_type": "markdown",
   "metadata": {
    "id": "ja0pT-uf9dr5"
   },
   "source": [
    "## Confronto gennaio 1982 - gennnaio 2022 <a class=\"anchor\" id=\"gennaio-sst\"></a>"
   ]
  },
  {
   "cell_type": "code",
   "execution_count": null,
   "metadata": {
    "id": "MqxhdgzD9dr6",
    "outputId": "cafa7648-30ff-45a9-e4eb-43ccc6f4038b",
    "pycharm": {
     "name": "#%%\n"
    }
   },
   "outputs": [],
   "source": [
    "# si mette a confronto il primo mese di gennaio con l'ultimo corrispondente per vedere se sono visibili graficamente delle differenze\n",
    "\n",
    "fig = plt.figure(figsize=(20,8))\n",
    "subplots = (1,2)\n",
    "n_panels = subplots[0] * subplots[1]\n",
    "\n",
    "\n",
    "# gennaio 1982\n",
    "sst = sst_data.sel(time='1982-01-01', method='nearest')\n",
    "ax = fig.add_subplot(subplots[0], subplots[1], 1, projection=ccrs.Robinson())\n",
    "ax.add_feature(cfeature.LAND,zorder=4, color='white')  \n",
    "# ax.set_title('January 1982')\n",
    "ax.set_global()\n",
    "mm = ax.pcolormesh(sst.lon,\n",
    "                   sst.lat,\n",
    "                   sst.sst,\n",
    "                   transform=ccrs.PlateCarree(),\n",
    "                   vmin=-1,\n",
    "                   vmax=35,\n",
    "                   cmap=cmocean.cm.thermal)\n",
    "ax.coastlines()\n",
    "ax.gridlines(draw_labels=True)\n",
    "\n",
    "\n",
    "# gennaio 2022\n",
    "sst = sst_data.sel(time='2022-01-01', method='nearest')\n",
    "# ax.set_title('January 2022')\n",
    "ax = fig.add_subplot(subplots[0], subplots[1], 2, projection=ccrs.Robinson())\n",
    "ax.add_feature(cfeature.LAND,zorder=4, color='white')\n",
    "ax.set_global()\n",
    "mm = ax.pcolormesh(sst.lon,\n",
    "                   sst.lat,\n",
    "                   sst.sst,\n",
    "                   transform=ccrs.PlateCarree(),\n",
    "                   vmin=-1,\n",
    "                   vmax=35,\n",
    "                   cmap=cmocean.cm.thermal)\n",
    "ax.coastlines()\n",
    "ax.gridlines(draw_labels=True)\n",
    "\n",
    "\n",
    "cbar_ax = fig.add_axes([0.28, 0.10, 0.46, 0.05])\n",
    "cbar = fig.colorbar(mm, cax=cbar_ax, extend='both', orientation='horizontal')\n",
    "cbar.set_label('Celsius')\n",
    "cbar.ax.tick_params(labelsize=8)\n",
    "\n",
    "\n",
    "plt.show()\n",
    "plt.close()\n",
    "\n",
    "\n",
    "# come prevedibile, trattandosi di un arco temporale ridotto, osservando i due grafici la differenza non è netta. Si potrebbe ipotizzare \n",
    "# che nei pressi dell'equatore si veda un incremento delle temperature con il passare degli anni\n",
    "\n",
    "# in ogni caso da questi plot si può notare, come osservato precedentemente, che le temperature più basse si verificano nei pressi dei \n",
    "# poli mentre avvicinandosi all'equatore le temperature aumentano in modo graduale"
   ]
  },
  {
   "cell_type": "markdown",
   "metadata": {},
   "source": [
    "## Sea Surface Temperature Anomaly map <a class=\"anchor\" id=\"anom-map-sst\"></a>"
   ]
  },
  {
   "cell_type": "code",
   "execution_count": null,
   "metadata": {
    "id": "ZgUsZavc9dr6",
    "outputId": "a65290d2-d071-4eaf-c4bf-9a2e74d74d37",
    "pycharm": {
     "name": "#%%\n"
    }
   },
   "outputs": [],
   "source": [
    "# Extract time slices\n",
    "first = sst_data.sel(time=slice(\"1981-01\", \"2010-12\"))  # periodo di riferimento\n",
    "last = sst_data.sel(time=slice(\"2022-03\"))  # si prende come mese marzo 2022\n",
    "diff = last.sst.mean(axis=0)-first.sst.mean(axis=0)\n",
    "\n",
    "# Set plot\n",
    "fig = plt.figure(figsize=(8,6)) \n",
    "\n",
    "subplots = (1,1)\n",
    "n_panels = subplots[0] * subplots[1]\n",
    "\n",
    "tmax = np.abs(diff).max()\n",
    "norm = mpl.colors.Normalize(vmin=-tmax,vmax=tmax)\n",
    "cmap = mpl.cm.seismic\n",
    "\n",
    "ax = fig.add_subplot(subplots[0], subplots[1], 1, projection=ccrs.Robinson())\n",
    "ax.set_global()\n",
    "mm = ax.pcolormesh(sst_data.lon, sst_data.lat, diff,\n",
    "                   transform=ccrs.PlateCarree(),cmap=cmap, norm=norm )\n",
    "ax.coastlines()\n",
    "ax.gridlines(draw_labels=True)\n",
    "\n",
    "# add colorbar\n",
    "cbar_ax = fig.add_axes([0.28, 0.10, 0.46, 0.05]) #[left, bottom, width, height]\n",
    "cbar = fig.colorbar(mm, cax=cbar_ax, extend='both', orientation='horizontal')\n",
    "cbar.set_label('Celsius')\n",
    "cbar.ax.tick_params(labelsize=8)\n",
    "\n",
    "plt.show()\n",
    "plt.close()\n",
    "\n",
    "# come si può osservare in gran parte del globo si osservano delle anomalie positive, quindi delle temperature più elevate rispetto \n",
    "# al periodo di riferimento. Questo indica un riscaldamento globale delle temperature superficiali dei mari\n",
    "\n",
    "# l'artico si sta riscaldando fino a due/tre volte più velocemente rispetto al resto del globo ed è considerato estremamente \n",
    "# vulnerabile ai cambiamenti climatici, contribuendo all'innalzamento del livello dei mari con la fusione della Groenlandia e dei ghiacciai\n",
    "\n",
    "# nei pressi dell'antartide si notano delle anomalie negative, ciò che rende il riscaldamento antartico complesso è che il continente meridionale, \n",
    "# ad eccezione della sua penisola che si sta riscaldando rapidamente e che sta perdendo rapidamente ghiaccio, non si è riscaldato molto, \n",
    "# soprattutto se confrontato con il resto del globo\n",
    "\n",
    "# per cercare di comprendere al meglio le tendenze del clima è infatti perferibile considerare il polo nord come indicatore climatico \n",
    "# https://earthdata.nasa.gov/learn/sensing-our-planet/unexpected-ice"
   ]
  },
  {
   "cell_type": "markdown",
   "metadata": {},
   "source": [
    "## Sea Surface Temperature Anomaly <a class=\"anchor\" id=\"anom-sst\"></a>"
   ]
  },
  {
   "cell_type": "code",
   "execution_count": null,
   "metadata": {},
   "outputs": [],
   "source": [
    "ds = sst_data\n",
    "ds = ds.sst.weighted(weights).mean(dim=['lat','lon'])  # media peata\n",
    "enso_clim = ds.sel(time=slice('1982-01-01','2010-12-01')).groupby('time.month').mean('time')\n",
    "ds_mean = ds.groupby('time.month') - enso_clim\n",
    "\n",
    "ds_mean.plot(figsize=(12,6), c='black')\n",
    "plt.axhline(y=0, c='black', linewidth=1, linestyle='dashdot')\n",
    "plt.ylabel('Sea Surface Temperature anomaly')\n",
    "time = ds_mean.time.values\n",
    "plt.xlim([datetime.date(1981,12,1), datetime.date(2022,5,1)])\n",
    "plt.title('Sea Surface Temperature anomaly')\n",
    "\n",
    "# è possibile osservare a partire agli anni 2000 delle anomalie in gran parte positive\n",
    "\n",
    "# https://xarray.pydata.org/en/stable/examples/weather-data.html#Calculate-monthly-anomalies"
   ]
  },
  {
   "cell_type": "markdown",
   "metadata": {
    "id": "AAgcc0sk9dr7"
   },
   "source": [
    "## Focus sulle aree polari <a class=\"anchor\" id=\"aree-polari-sst\"></a>\n",
    "Tra il 14 e il 20 marzo 2022 due eventi meteorologici eccezionali hanno interessato Polo Nord e Polo Sud. Sarebbe più corretto dire che, in particolare, l'evento che ha interessato l’Antartide ha ridefinito la storia climatologica del continente: un evento ritenuto inimmaginabile fino a poco tempo fa. \n",
    "\n",
    "- https://polarjournal.ch/en/2022/03/22/heat-waves-over-polar-regions-baffle-experts\n",
    "- http://www.lamma.rete.toscana.it/news/dallartide-allantartide-eventi-senza-precedenti\n",
    "- https://www.repubblica.it/green-and-blue/2022/03/23/news/il_caldo_record_ai_poli_che_allarma_gli_scienziati-342549265\n",
    "  \n",
    "In Antartide si sono registrate temperature anche 40 gradi sopra la media (tra il 17 e il 20 marzo su un’ampia zona di Antartide orientale si è osservato un marcato e rapido aumento delle temperature).  \n",
    "\n",
    "*Extraordinary anomalies in #Antarctica lead to historic records today, 18 march 2022:  \n",
    "-Vostok  3489m -17.7C,monthly record beaten by nearly 15C !  \n",
    "-Concordia 3234m -12.2C,highest Temp. on records  and about 40C above average !  \n",
    "-Dome C II 3250m -10.1C  \n",
    "-D-47 1560m -3.3C  \n",
    "-Terra Nova Base 74S +7.0C*"
   ]
  },
  {
   "cell_type": "code",
   "execution_count": null,
   "metadata": {
    "id": "Nq-Velaw9dr7",
    "outputId": "5d49446f-6c8e-490b-f6ee-2995f083ec96",
    "pycharm": {
     "name": "#%%\n"
    }
   },
   "outputs": [],
   "source": [
    "# polo nord\n",
    "\n",
    "# marzo medio\n",
    "sst = sst_data.sst.groupby('time.month').mean('time')\n",
    "sst_mar = sst.isel(month=2)  # 2 corrisponde a marzo\n",
    "fig = plt.figure(figsize=(10,6))\n",
    "extent = [180, -180 , 50 , 90]  \n",
    "ax = plt.axes(projection=ccrs.Orthographic(central_longitude=0.0, central_latitude=90))\n",
    "ax.set_extent(extent, ccrs.PlateCarree())\n",
    "p1a = sst_mar.plot(transform=ccrs.PlateCarree(),\n",
    "                                                       vmin=-1,\n",
    "                                                       vmax=35,\n",
    "                                                       cmap=cmocean.cm.thermal)\n",
    "ax.add_feature(cfeature.LAND,zorder=4,color='white')\n",
    "p1a.axes.coastlines()\n",
    "\n",
    "\n",
    "# marzo 2022\n",
    "fig = plt.figure(figsize=(10,6))\n",
    "extent = [180, -180 , 50 , 90]\n",
    "ax = plt.axes(projection=ccrs.Orthographic(central_longitude=0.0, central_latitude=90))\n",
    "ax.set_extent(extent, ccrs.PlateCarree())\n",
    "p1a = sst_data.sst.isel(time=483).plot(transform=ccrs.PlateCarree(),\n",
    "                                                       vmin=-1,\n",
    "                                                       vmax=35,\n",
    "                                                       cmap=cmocean.cm.thermal)\n",
    "ax.add_feature(cfeature.LAND,zorder=4,color='white')\n",
    "p1a.axes.coastlines()\n",
    "\n",
    "# si utilizza Orthographic Projection\n",
    "# https://www.winwaed.com/blog/2010/01/11/polar-maps-and-projections-part-1-overview/"
   ]
  },
  {
   "cell_type": "code",
   "execution_count": null,
   "metadata": {
    "id": "UNTb3cXP9dr8",
    "outputId": "c88b4ac6-3344-4a72-c941-8f2f1697df97",
    "pycharm": {
     "name": "#%%\n"
    }
   },
   "outputs": [],
   "source": [
    "# polo sud\n",
    "\n",
    "# in modo analogo si prende in considerazione il mese di marzo per il polo sud\n",
    "\n",
    "# marzo medio\n",
    "sst = sst_data.sst.groupby('time.month').mean('time')\n",
    "sst_mar = sst.isel(month=2)  # 2 corrisponde a marzo\n",
    "fig = plt.figure(figsize=(10,6))\n",
    "extent = [180, -180 , -50 , -90]\n",
    "ax = plt.axes(projection=ccrs.Orthographic(central_longitude=0.0, central_latitude=-90))  \n",
    "ax.set_extent(extent, ccrs.PlateCarree())\n",
    "p1a = sst_mar.plot(transform=ccrs.PlateCarree(),\n",
    "                                                       vmin=-1,\n",
    "                                                       vmax=35,\n",
    "                                                       cmap=cmocean.cm.thermal)\n",
    "ax.add_feature(cfeature.LAND,zorder=4,color='white')\n",
    "p1a.axes.coastlines()\n",
    "\n",
    "\n",
    "# marzo 2022\n",
    "fig = plt.figure(figsize=(10,6))\n",
    "extent = [180, -180 , -50 , -90]\n",
    "ax = plt.axes(projection=ccrs.Orthographic(central_longitude=0.0, central_latitude=-90)) \n",
    "ax.set_extent(extent, ccrs.PlateCarree())\n",
    "p1a = sst_data.sst.isel(time=483).plot(transform=ccrs.PlateCarree(),\n",
    "                                                       vmin=-1,\n",
    "                                                       vmax=35,\n",
    "                                                       cmap=cmocean.cm.thermal)\n",
    "ax.add_feature(cfeature.LAND,zorder=4,color='white')\n",
    "p1a.axes.coastlines()\n",
    "\n",
    "# tuttavia in questo caso come per il polo nord non si percepisono differenze nette anche perchè si stanno considerando temperature \n",
    "# superficiali dei mari mentre quelle misurate, menzionate negli articoli citati precedentemente, sono temperature misurate in superficie"
   ]
  },
  {
   "cell_type": "markdown",
   "metadata": {
    "id": "wO7Ptkcf9dr8"
   },
   "source": [
    "## Analisi serie storiche <a class=\"anchor\" id=\"serie-sst\"></a>"
   ]
  },
  {
   "cell_type": "code",
   "execution_count": null,
   "metadata": {
    "id": "ry4uF88c9dr8",
    "outputId": "c2fb5884-529a-4a74-bf6b-4255326aa516",
    "pycharm": {
     "name": "#%%\n"
    }
   },
   "outputs": [],
   "source": [
    "# visualizzazione serie storica della variabile sst a diverse granularità: mensile e annuale\n",
    "\n",
    "plt.figure(figsize=(20, 6))\n",
    "weights = np.cos(np.deg2rad(sst_data.sst.lat))  # su una griglia lat e long le aree delle celle sono diverse, tendono a diminuire verso i poli\n",
    "# risulta dunque necessario effettuare una media pesata con i pesi che siano proporzionali alle aree delle celle. Si può usare ad esempio la funzione \n",
    "# coseno per creare questi pesi\n",
    "weights.name = \"weights\"\n",
    "sst_weighted = sst_data.sst.weighted(weights)\n",
    "weighted_mean = sst_weighted.mean((\"lon\", \"lat\"))\n",
    "\n",
    "weighted_mean.plot()  # serie temporale mensile globale con media pesata\n",
    "\n",
    "weighted_mean.resample(time=\"Y\").mean().plot()  # serie temporale annuale globale con media pesata\n",
    "\n",
    "plt.legend([\"monthly time series\", \"annual time series\"], loc=0)\n",
    "plt.show()\n",
    "\n",
    "# come si vede chiaramente si ha un trend crescente nel tempo, il che sta ad indicare che negli ultimi anni la temperatura superficiale \n",
    "# dei mari è aumentata\n",
    "\n",
    "# volendo quantificare questo riscaldamento degli oceani, negli ultimi 40 anni, dal 1981 ad oggi, è possibile osservare che la temperatura \n",
    "# superficiale media degli oceani si è alzata di +0,8°C\n",
    "# http://meteobook.it/temperature-del-mare-guardate-come-sono-cambiate-negli-ultimi-40-anni/"
   ]
  },
  {
   "cell_type": "markdown",
   "metadata": {
    "id": "IaHTUI5Z9dr8"
   },
   "source": [
    "Concentrandosi sulle aree polari:  \n",
    "Per le analisi successive si è deciso di considerare per il polo nord e il polo sud le rispettive regioni polari.  \n",
    "Polo nord: dal circolo polare artico (lat: 66.5 circa) alla latitudine 89.5 (primi 24 valori di latitudine)  \n",
    "Polo sud: dal circolo polare antartico (lat: -66.5 circa) alla latitudine -89.5 (ultimi 24 valori di latitudine) "
   ]
  },
  {
   "cell_type": "code",
   "execution_count": null,
   "metadata": {},
   "outputs": [],
   "source": [
    "Image(filename='terra.gif') "
   ]
  },
  {
   "cell_type": "code",
   "execution_count": null,
   "metadata": {
    "id": "uhNZAZi49dr9",
    "outputId": "e17fedc5-24c0-4f6a-9e47-50ec22b0f123",
    "pycharm": {
     "name": "#%%\n"
    }
   },
   "outputs": [],
   "source": [
    "# polo nord\n",
    "\n",
    "# sst_data.isel(lat=slice(0,24)).mean((\"lon\", \"lat\"), keep_attrs=True).sst.hvplot()\n",
    "sst_data.isel(lat=slice(0,24)).sst.weighted(weights).mean((\"lon\", \"lat\"), keep_attrs=True).hvplot()  # media pesata\n",
    "\n",
    "# la temperatura oscilla tra -1 grado centigrado e i 2 gradi. Negli ultimi anni la temperatura si è avvicinata ai 3 gradi nei mesi di agosto "
   ]
  },
  {
   "cell_type": "code",
   "execution_count": null,
   "metadata": {
    "id": "0JBPdY3i9dr9",
    "outputId": "b0f2f9e9-d54f-4b27-f526-a7743350be8d",
    "pycharm": {
     "name": "#%%\n"
    }
   },
   "outputs": [],
   "source": [
    "# polo sud\n",
    "\n",
    "# sst_data.isel(lat=slice(156,180)).mean((\"lon\", \"lat\"), keep_attrs=True).sst.hvplot()\n",
    "sst_data.isel(lat=slice(156,180)).sst.weighted(weights).mean((\"lon\", \"lat\"), keep_attrs=True).hvplot()  # media pesata\n",
    "\n",
    "# mentre nell'area del polo nord si può vedere un accenno di trend positivo, considerando la serie storica relativa all'area del polo sud ciò \n",
    "# è meno marcato\n",
    "# la variabilità sembra essere maggiore per il polo nord"
   ]
  },
  {
   "cell_type": "code",
   "execution_count": null,
   "metadata": {
    "id": "YlxETOxX9dr9",
    "outputId": "86f59b01-55ef-446b-be74-559d69057acb",
    "pycharm": {
     "name": "#%%\n"
    }
   },
   "outputs": [],
   "source": [
    "# andamento delle temperature per polo nord e polo sud che rispecchia il fenomeno delle stagioni invertite\n",
    "\n",
    "# senza media pesata\n",
    "# plt.figure(figsize=(20, 6))\n",
    "# sst_data.isel(lat=slice(0,24)).mean((\"lon\", \"lat\"), keep_attrs=True).sst.groupby(\"time.month\").mean(\"time\").plot()  \n",
    "# sst_data.isel(lat=slice(156,180)).mean((\"lon\", \"lat\"), keep_attrs=True).sst.groupby(\"time.month\").mean(\"time\").plot()  \n",
    "# plt.legend([\"north pole area\", \"south pole area\"], loc=0)\n",
    "# plt.show()\n",
    "\n",
    "# con media pesata\n",
    "plt.figure(figsize=(20, 6))\n",
    "sst_data.isel(lat=slice(0,24)).sst.weighted(weights).mean((\"lon\", \"lat\"), keep_attrs=True).groupby(\"time.month\").mean(\"time\").plot()  \n",
    "sst_data.isel(lat=slice(156,180)).sst.weighted(weights).mean((\"lon\", \"lat\"), keep_attrs=True).groupby(\"time.month\").mean(\"time\").plot()  \n",
    "plt.legend([\"north pole area\", \"south pole area\"], loc=0)\n",
    "plt.show()\n",
    "\n",
    "# correttamente si vede che le stagioni sono invertite per i due emisferi"
   ]
  },
  {
   "cell_type": "markdown",
   "metadata": {
    "id": "vpqunNlB9dr9"
   },
   "source": [
    "# Esplorazione dataset Ice Concentration <a class=\"anchor\" id=\"espl-icec\"></a>"
   ]
  },
  {
   "cell_type": "markdown",
   "metadata": {
    "id": "iMBL3KjI9dr9"
   },
   "source": [
    "## Caratteristiche principali <a class=\"anchor\" id=\"car-pr-icec\"></a>"
   ]
  },
  {
   "cell_type": "code",
   "execution_count": null,
   "metadata": {
    "id": "kIY_AbtL9dr-",
    "outputId": "ea7ed5b9-6a7a-4dd0-b839-bc6964c149fe",
    "pycharm": {
     "name": "#%%\n"
    }
   },
   "outputs": [],
   "source": [
    "icec_data.attrs"
   ]
  },
  {
   "cell_type": "code",
   "execution_count": null,
   "metadata": {
    "id": "1MvKndEJ9dr-",
    "outputId": "143f8387-260a-40a3-954d-2f0645159378",
    "pycharm": {
     "name": "#%%\n"
    }
   },
   "outputs": [],
   "source": [
    "icec_data.icec.min()  # 0\n",
    "icec_data.icec.max()  # 100\n",
    "\n",
    "# si tratta di valori in percentuale\n",
    "# 0 è diverso da \"nan\", 0 indica che non vi è ghiaccio mentre \"nan\" indica che si tratta di terra ferma"
   ]
  },
  {
   "cell_type": "markdown",
   "metadata": {
    "id": "Uhzdlx1f9dr-",
    "pycharm": {
     "name": "#%% md\n"
    }
   },
   "source": [
    "Si hanno i dati della concentrazione di ghiaccio con granularità mensile. Vi sono valori null in corrispondenza della terra ferma.\n",
    "\n",
    "Viene utilizzato il primo giorno del mese alle ore 00.00.00 per indicare il label del mese.\n",
    "\n",
    "In particolare si hanno i dati mensili da dicembre 1981 ad aprile 2022, per un totale di 484 istanti temporali.\n",
    "\n",
    "La griglia è composta da 180 bande di latitudine e 360 bande di longitudine."
   ]
  },
  {
   "cell_type": "markdown",
   "metadata": {
    "id": "7NF8foZM9dr-"
   },
   "source": [
    "## Distribuzione della variabile icec <a class=\"anchor\" id=\"dist-icec\"></a>"
   ]
  },
  {
   "cell_type": "code",
   "execution_count": null,
   "metadata": {
    "id": "3g5XyBqs9dr-",
    "outputId": "96e29f0d-8585-497d-b77d-0bc1e22c2c7c",
    "pycharm": {
     "name": "#%%\n"
    }
   },
   "outputs": [],
   "source": [
    "# icec_data.icec.plot()\n",
    "icec_data.icec.hvplot()"
   ]
  },
  {
   "cell_type": "code",
   "execution_count": null,
   "metadata": {
    "id": "30VWkdCn9dr_",
    "pycharm": {
     "name": "#%%\n"
    }
   },
   "outputs": [],
   "source": [
    "# grafico interattivo per vedere l'andamento delle percentuali di concentrazione dei ghiacci annualmente a partire dal 1981\n",
    "\n",
    "proj = ccrs.PlateCarree()\n",
    "icec_data.icec.isel(time=slice(0, 485, 12)).hvplot.quadmesh('lon',\n",
    "                                                         'lat',\n",
    "                                                         crs = ccrs.PlateCarree(),\n",
    "                                                         projection=proj,\n",
    "                                                         project=True,\n",
    "                                                         global_extent=True,\n",
    "                                                         rasterize=True,\n",
    "                                                         color='seawater_temperature',\n",
    "                                                         cmap=cmocean.cm.ice,\n",
    "                                                         dynamic=False,\n",
    "                                                         coastline=True,\n",
    "                                                         frame_width=500,\n",
    "                                                         clim = (0, 100),\n",
    "                                                         figsize=(10,13))"
   ]
  },
  {
   "cell_type": "code",
   "execution_count": null,
   "metadata": {
    "id": "N30bo8Ok9dr_",
    "outputId": "9586c4b2-cc93-454a-8296-f2d77e0a4054",
    "pycharm": {
     "name": "#%%\n"
    }
   },
   "outputs": [],
   "source": [
    "# percentuali di concentrazione di ghiaccio medie per ciascun mese\n",
    "\n",
    "icec = icec_data.icec.groupby('time.month').mean('time')  # medie di tutti i mesi per tutti gli anni\n",
    "\n",
    "# grafico interattivo\n",
    "proj = ccrs.PlateCarree()\n",
    "icec.isel(month=slice(0, 12, 1)).hvplot.quadmesh('lon',\n",
    "                                                         'lat',\n",
    "                                                         crs = ccrs.PlateCarree(),\n",
    "                                                         projection=proj,\n",
    "                                                         project=True,\n",
    "                                                         global_extent=True,\n",
    "                                                         rasterize=True,\n",
    "                                                         color='ice',\n",
    "                                                         cmap=cmocean.cm.ice,\n",
    "                                                         dynamic=False,\n",
    "                                                         coastline=True,\n",
    "                                                         frame_width=500,\n",
    "                                                         clim = (0, 100),\n",
    "                                                         figsize=(10,13))\n",
    "\n",
    "\n",
    "# le aree in mezzo ai continenti rappresentano laghi, mar rosso ecc."
   ]
  },
  {
   "cell_type": "code",
   "execution_count": null,
   "metadata": {
    "id": "NcWe9kAq9dr_",
    "outputId": "3798fa92-c285-45dc-8857-aace5a8dec58",
    "pycharm": {
     "name": "#%%\n"
    }
   },
   "outputs": [],
   "source": [
    "# si comprime la dimensione del tempo calcolando la media\n",
    "# viene riportata la media della variabile icec lungo la linea del tempo\n",
    "\n",
    "fig = plt.figure(figsize=(14,8))\n",
    "ax = plt.axes(projection=ccrs.PlateCarree())\n",
    "ax.add_feature(cfeature.LAND,zorder=4,color='white')\n",
    "ax.gridlines(draw_labels=True)\n",
    "icec_data.icec.mean(axis=0).plot(cmap=cmocean.cm.ice,\n",
    "                                 vmin=0,\n",
    "                                 vmax=100)"
   ]
  },
  {
   "cell_type": "markdown",
   "metadata": {
    "id": "MaF96h5f9dr_"
   },
   "source": [
    "## Confronto gennaio 1982 - gennaio 2022 <a class=\"anchor\" id=\"gennaio-icec\"></a>"
   ]
  },
  {
   "cell_type": "code",
   "execution_count": null,
   "metadata": {
    "id": "-1MJ0G3Y9dr_",
    "outputId": "37e0de9b-d74c-433e-e8cb-6a2dddfe1d84",
    "pycharm": {
     "name": "#%%\n"
    }
   },
   "outputs": [],
   "source": [
    "# si mette a confronto il primo mese di gennaio con l'ultimo corrispondente per vedere se sono visibili graficamente delle differenze\n",
    "\n",
    "fig = plt.figure(figsize=(20,8))\n",
    "subplots = (1,2)\n",
    "n_panels = subplots[0] * subplots[1]\n",
    "\n",
    "\n",
    "# gennaio 1982\n",
    "icec = icec_data.sel(time='1982-01-01', method='nearest')\n",
    "ax = fig.add_subplot(subplots[0], subplots[1], 1, projection=ccrs.Robinson())\n",
    "ax.add_feature(cfeature.LAND,zorder=4,color='white')  \n",
    "# ax.set_title('January 1982')\n",
    "ax.set_global()\n",
    "mm = ax.pcolormesh(icec.lon,\n",
    "                   icec.lat,\n",
    "                   icec.icec,\n",
    "                   transform=ccrs.PlateCarree(),\n",
    "                   vmin=0,\n",
    "                   vmax=100,\n",
    "                   cmap=cmocean.cm.ice)\n",
    "ax.coastlines()\n",
    "ax.gridlines(draw_labels=True)\n",
    "\n",
    "\n",
    "\n",
    "# gennaio 2022\n",
    "icec = icec_data.sel(time='2022-01-01', method='nearest')\n",
    "# ax.set_title('January 2022')\n",
    "ax = fig.add_subplot(subplots[0], subplots[1], 2, projection=ccrs.Robinson())\n",
    "ax.add_feature(cfeature.LAND,zorder=4,color='white')  # al posto di usare il dataset mask\n",
    "ax.set_global()\n",
    "mm = ax.pcolormesh(icec.lon,\n",
    "                   icec.lat,\n",
    "                   icec.icec,\n",
    "                   transform=ccrs.PlateCarree(),\n",
    "                   vmin=0,\n",
    "                   vmax=100,\n",
    "                   cmap=cmocean.cm.ice)\n",
    "ax.coastlines()\n",
    "ax.gridlines(draw_labels=True)\n",
    "\n",
    "\n",
    "cbar_ax = fig.add_axes([0.28, 0.10, 0.46, 0.05])\n",
    "cbar = fig.colorbar(mm, cax=cbar_ax, extend='both', orientation='horizontal')\n",
    "cbar.set_label('Percentage')\n",
    "cbar.ax.tick_params(labelsize=8)\n",
    "\n",
    "\n",
    "plt.show()\n",
    "plt.close()\n",
    "\n",
    "# si notano dei cambiamenti nella distribuzione dei ghiacci sia al polo nord che al polo sud. Si indaga più nel dettaglio con le analisi \n",
    "# successive. Le differenze sono più nette rispetto al dataset precedente"
   ]
  },
  {
   "cell_type": "markdown",
   "metadata": {},
   "source": [
    "## Ice Concentration Anomaly map <a class=\"anchor\" id=\"anom-map-icec\"></a>"
   ]
  },
  {
   "cell_type": "code",
   "execution_count": null,
   "metadata": {
    "id": "GCgiXyll9dsA",
    "pycharm": {
     "name": "#%%\n"
    }
   },
   "outputs": [],
   "source": [
    "# Extract time slices\n",
    "first = icec_data.sel(time=slice(\"1981-01\", \"2010-12\"))  # periodo di riferimento\n",
    "last = icec_data.sel(time=slice(\"2022-03\"))  # si prende come mese marzo 2022\n",
    "diff = last.icec.mean(axis=0)-first.icec.mean(axis=0)\n",
    "\n",
    "# Set plot\n",
    "fig = plt.figure(figsize=(8,6))  # x,y(inches)\n",
    "\n",
    "subplots = (1,1)\n",
    "n_panels = subplots[0] * subplots[1]\n",
    "\n",
    "tmax = np.abs(diff).max()\n",
    "norm = mpl.colors.Normalize(vmin=-tmax,vmax=tmax)\n",
    "cmap = mpl.cm.seismic\n",
    "\n",
    "ax = fig.add_subplot(subplots[0], subplots[1], 1, projection=ccrs.Robinson())\n",
    "ax.set_global()\n",
    "mm = ax.pcolormesh(icec_data.lon, icec_data.lat, diff,\n",
    "                   transform=ccrs.PlateCarree(),cmap=cmap, norm=norm )\n",
    "ax.coastlines()\n",
    "ax.gridlines(draw_labels=True)\n",
    "\n",
    "#- add colorbar\n",
    "cbar_ax = fig.add_axes([0.28, 0.10, 0.46, 0.05]) #[left, bottom, width, height]\n",
    "cbar = fig.colorbar(mm, cax=cbar_ax, extend='both', orientation='horizontal')\n",
    "cbar.set_label('Percentage')\n",
    "cbar.ax.tick_params(labelsize=8)\n",
    "\n",
    "plt.show()\n",
    "plt.close()\n",
    "\n",
    "# come si può osservare nel 2022 rispetto ai valori di riferimento relativi al periodo 1981-2010 si ha una netta diminuzione dei ghiacci \n",
    "# nella zona polare artica. Questa discostamento negativo rispetto alla media è di portata minore per la \n",
    "# zona polare antartica. Infatti in antartide ci sono diversi fattori che contribuiscono alla formazione dei ghiacci in maggior presenza\n",
    "# rispetto al polo nord. Tra questi fattori si distinguono: il buco dell'ozono sopra l'antartide permette di raffreddare la stratosfera e di creare\n",
    "# un vortice polare più forte di quello misurato al polo nord, il forte vento porta alla formazione di polynyas, aree in cui è più facile \n",
    "# che si possa formare ulteriore ghiaccio e non da ultimo la circolazione oceanica.\n",
    "# https://climate.copernicus.eu/sea-ice-cover-july-2021\n",
    "# https://skepticalscience.com/antarctica-gaining-ice-intermediate.htm"
   ]
  },
  {
   "cell_type": "markdown",
   "metadata": {},
   "source": [
    "## Comparazione Northen e Southern Hemisphere Ice Concentration Anomaly <a class=\"anchor\" id=\"emis\"></a>"
   ]
  },
  {
   "cell_type": "code",
   "execution_count": null,
   "metadata": {},
   "outputs": [],
   "source": [
    "# Arctic Sea Ice Concentration anomaly\n",
    "ds = icec_data.sel(lat=slice(90, 0))\n",
    "ds = ds.icec.weighted(weights).mean(dim=['lat','lon'])  # media peata\n",
    "enso_clim = ds.sel(time=slice('1982-01-01','2010-12-01')).groupby('time.month').mean('time')\n",
    "ds_mean = ds.groupby('time.month') - enso_clim\n",
    "\n",
    "ds_mean.plot(figsize=(12,6), c='black')\n",
    "plt.axhline(y=0, c='black', linewidth=1, linestyle='dashdot')\n",
    "plt.ylabel('Arctic Sea Ice concentration anomaly')\n",
    "time = ds_mean.time.values\n",
    "plt.xlim([datetime.date(1981,12,1), datetime.date(2022,5,1)])\n",
    "plt.title('Arctic Sea Ice concentration anomaly')\n",
    "# il grafico mostra anomalie per lo più positive dal 1981 al 2004. Dal 2005 si osservano delle anomalie negative\n",
    "# questa osservazione verrà confermata successivamente con i risultati ottenuti applicando il modello Prophet\n",
    "\n",
    "# per il polo nord si ha una variabilità più elevata \n",
    "\n",
    "\n",
    "\n",
    "# Antarctic Sea Ice Concentration anomaly\n",
    "ds = icec_data.sel(lat=slice(0, -90))\n",
    "ds = ds.icec.weighted(weights).mean(dim=['lat','lon'])  # media peata\n",
    "enso_clim = ds.sel(time=slice('1982-01-01','2010-12-01')).groupby('time.month').mean('time')\n",
    "ds_mean = ds.groupby('time.month') - enso_clim\n",
    "\n",
    "ds_mean.plot(figsize=(12,6), c='black')\n",
    "plt.axhline(y=0, c='black', linewidth=1, linestyle='dashdot')\n",
    "plt.ylabel('Antarctic Sea Ice concentration anomaly')\n",
    "time = ds_mean.time.values\n",
    "plt.xlim([datetime.date(1981,12,1), datetime.date(2022,5,1)])\n",
    "plt.title('Antarctic Sea Ice concentration anomaly')\n",
    "# il grafico mostra un numero maggiore di anomalie negative. Tra il 2007 e il 2015 vi è un periodo in cui la concentrazione di ghiaccio \n",
    "# è aumentata\n",
    "\n",
    "\n",
    "# tali risultati coincidono con le osservazioni presenti in:\n",
    "# https://climate.copernicus.eu/sea-ice-cover-october-2021  \n",
    "# https://climate.copernicus.eu/sea-ice-cover-july-2021"
   ]
  },
  {
   "cell_type": "markdown",
   "metadata": {
    "id": "MaSRtVQc9dsA"
   },
   "source": [
    "## Focus sulle aree polari <a class=\"anchor\" id=\"aree-polari-icec\"></a>\n",
    "La regione antartica è rappresentata da un oceano ricoperto da un sottile e molto antico strato di ghiaccio.\n",
    "\n",
    "L'antartide invece è un continente ricoperto da uno strato molto spesso di ghiaccio, circondato da ghiaccio in mare (sea ice) e dall'oceano meridionale.\n",
    "\n",
    "A febbraio 2022 in antartide si è registrata la minore estensione dei ghiacci da quando vengono memorizzati tali dati (dal 1979). Per la prima volta il ghiaccio in acqua ha registrato un'estensione minore di 2 mln di km quadrati \n",
    "(https://earthobservatory.nasa.gov/images/149627/antarctic-sea-ice-reaches-record-low)\n",
    "\n",
    "E' interessante notare che un mese dopo, a marzo 2022, nella regione dell'antartide si sono registrate delle temperature record, come osservato in precedenza con la variabile sst."
   ]
  },
  {
   "cell_type": "code",
   "execution_count": null,
   "metadata": {
    "id": "OpLL0eZ59dsA",
    "outputId": "9f2e2a5b-3b53-488e-cd48-c1023bcdc936",
    "pycharm": {
     "name": "#%%\n"
    }
   },
   "outputs": [],
   "source": [
    "# considerando marzo come fatto in precedenza per la variabile sst\n",
    "\n",
    "# polo nord\n",
    "\n",
    "# marzo medio\n",
    "icec = icec_data.icec.groupby('time.month').mean('time')\n",
    "icec_mar = icec.isel(month=2)  # 2 corrisponde a marzo\n",
    "\n",
    "fig = plt.figure(figsize=(10,6))\n",
    "extent = [180, -180 , 50 , 90]\n",
    "ax = plt.axes(projection=ccrs.Orthographic(central_longitude=0.0, central_latitude=90))\n",
    "ax.set_extent(extent, ccrs.PlateCarree())\n",
    "p1a = icec_mar.plot(transform=ccrs.PlateCarree(),\n",
    "                    vmin=0,\n",
    "                    vmax=100,\n",
    "                    cmap=cmocean.cm.ice)\n",
    "ax.add_feature(cfeature.LAND,zorder=4,color='white')\n",
    "p1a.axes.coastlines()\n",
    "\n",
    "\n",
    "# marzo 2022\n",
    "fig = plt.figure(figsize=(10,6))\n",
    "extent = [180, -180 , 50 , 90]\n",
    "ax = plt.axes(projection=ccrs.Orthographic(central_longitude=0.0, central_latitude=90))\n",
    "ax.set_extent(extent, ccrs.PlateCarree())\n",
    "p1a = icec_data.icec.isel(time=483).plot(transform=ccrs.PlateCarree(),\n",
    "                                         vmin=0,\n",
    "                                         vmax=100,\n",
    "                                         cmap=cmocean.cm.ice)\n",
    "ax.add_feature(cfeature.LAND,zorder=4,color='white')\n",
    "p1a.axes.coastlines()\n",
    "\n",
    "# si nota una diminuzione a marzo 2022 rispetto ai valori tipici del mese di marzo\n",
    "\n",
    "# nella parte sud-ovest si vede la barriera di Ross o Tavolata di Ross, si tratta della più grande piattaforma glaciale dell'Antartide, \n",
    "# con una superficie di circa 473k km^2 e una larghezza di 800 km (ha all'incirca le dimensioni della Francia)"
   ]
  },
  {
   "cell_type": "code",
   "execution_count": null,
   "metadata": {},
   "outputs": [],
   "source": [
    "# polo sud \n",
    "\n",
    "# in modo analogo si prende in considerazione il mese di marzo per il polo sud \n",
    "\n",
    "# marzo medio\n",
    "icec = icec_data.icec.groupby('time.month').mean('time')\n",
    "icec_mar = icec.isel(month=2)  # 2 corrisponde a marzo\n",
    "\n",
    "fig = plt.figure(figsize=(10,6))\n",
    "extent = [180, -180 , -50 , -90]\n",
    "ax = plt.axes(projection=ccrs.Orthographic(central_longitude=0.0, central_latitude=-90))\n",
    "ax.set_extent(extent, ccrs.PlateCarree())\n",
    "p1a = icec_mar.plot(transform=ccrs.PlateCarree(),\n",
    "                    vmin=0,\n",
    "                    vmax=100,\n",
    "                    cmap=cmocean.cm.ice)\n",
    "ax.add_feature(cfeature.LAND,zorder=4,color='white')\n",
    "p1a.axes.coastlines()\n",
    "\n",
    "\n",
    "# marzo 2022\n",
    "fig = plt.figure(figsize=(10,6))\n",
    "extent = [180, -180 , -50 , -90]\n",
    "ax = plt.axes(projection=ccrs.Orthographic(central_longitude=0.0, central_latitude=-90))\n",
    "ax.set_extent(extent, ccrs.PlateCarree())\n",
    "p1a = icec_data.icec.isel(time=483).plot(transform=ccrs.PlateCarree(),\n",
    "                                         vmin=0,\n",
    "                                         vmax=100,\n",
    "                                         cmap=cmocean.cm.ice)\n",
    "ax.add_feature(cfeature.LAND,zorder=4,color='white')\n",
    "p1a.axes.coastlines()\n",
    "\n",
    "# si può notare che a marzo 2022 rispetto ai valori medi si ha una diminuzione delle aree in cui vi è ghiaccio"
   ]
  },
  {
   "cell_type": "code",
   "execution_count": null,
   "metadata": {
    "id": "c1wIT89J9dsB",
    "outputId": "53f75b46-adc4-4ae1-d74d-8e0d6315be20",
    "pycharm": {
     "name": "#%%\n"
    }
   },
   "outputs": [],
   "source": [
    "# focus su febbraio considerando l'antartica\n",
    "\n",
    "# febbraio medio\n",
    "icec = icec_data.icec.groupby('time.month').mean('time')\n",
    "icec_feb = icec.isel(month=1)  # 1 corrisponde a febbraio\n",
    "fig = plt.figure(figsize=(16,12))\n",
    "extent = [180, -180 , -50 , -90]\n",
    "ax = plt.axes(projection=ccrs.Orthographic(central_longitude=0.0, central_latitude=-90))\n",
    "ax.set_extent(extent, ccrs.PlateCarree())\n",
    "p1a = icec_feb.plot(transform=ccrs.PlateCarree(),\n",
    "                                                       vmin=0,\n",
    "                                                       vmax=100,\n",
    "                                                       cmap=cmocean.cm.ice)\n",
    "ax.add_feature(cfeature.LAND,zorder=4,color='white')\n",
    "p1a.axes.coastlines()\n",
    "\n",
    "\n",
    "# febbraio 2022\n",
    "fig = plt.figure(figsize=(16,12))\n",
    "extent = [180, -180 , -50 , -90]\n",
    "ax = plt.axes(projection=ccrs.Orthographic(central_longitude=0.0, central_latitude=-90))\n",
    "ax.set_extent(extent, ccrs.PlateCarree())\n",
    "p1a = icec_data.icec.isel(time=482).plot(transform=ccrs.PlateCarree(),\n",
    "                                                       vmin=0,\n",
    "                                                       vmax=100,\n",
    "                                                       cmap=cmocean.cm.ice)\n",
    "ax.add_feature(cfeature.LAND,zorder=4,color='white')\n",
    "p1a.axes.coastlines()\n",
    "\n",
    "# anche in questo caso a febbraio 2022 si nota una diminuzione della presenza di ghiacci in termini percentuali"
   ]
  },
  {
   "cell_type": "code",
   "execution_count": null,
   "metadata": {
    "id": "0x7nXyhL9dsB",
    "outputId": "d0377143-9648-4b20-c3c6-28584d5aa0bf",
    "pycharm": {
     "name": "#%%\n"
    }
   },
   "outputs": [],
   "source": [
    "# le stagioni ai poli sono solamente due\n",
    "\n",
    "# polo nord\n",
    "\n",
    "# artic summer: september\n",
    "# artic winter: march\n",
    "\n",
    "icec = icec_data.icec.groupby('time.month').mean('time')  # medie di tutti i mesi per tutti gli anni\n",
    "\n",
    "# marzo\n",
    "fig = plt.figure(figsize=(16,12))\n",
    "extent = [180, -180 , 50 , 90]\n",
    "ax = plt.axes(projection=ccrs.Orthographic(central_longitude=0.0, central_latitude=90))\n",
    "ax.set_extent(extent, ccrs.PlateCarree())\n",
    "p1a = icec.isel(month=2).plot(transform=ccrs.PlateCarree(),\n",
    "                                                       vmin=0,\n",
    "                                                       vmax=100,\n",
    "                                                       cmap=cmocean.cm.ice)\n",
    "ax.add_feature(cfeature.LAND,zorder=4,color='white')\n",
    "p1a.axes.coastlines()\n",
    "\n",
    "\n",
    "# settembre\n",
    "fig = plt.figure(figsize=(16,12))\n",
    "extent = [180, -180 , 50 , 90]\n",
    "ax = plt.axes(projection=ccrs.Orthographic(central_longitude=0.0, central_latitude=90))\n",
    "ax.set_extent(extent, ccrs.PlateCarree())\n",
    "p1a = icec.isel(month=8).plot(transform=ccrs.PlateCarree(),\n",
    "                                                       vmin=0,\n",
    "                                                       vmax=100,\n",
    "                                                       cmap=cmocean.cm.ice)\n",
    "ax.add_feature(cfeature.LAND,zorder=4,color='white')\n",
    "p1a.axes.coastlines()\n",
    "\n",
    "# come si può esservare nella stagione estiva vi è una netta diminuzione della presenza di ghiacci\n",
    "\n",
    "# durante l'inverno le temperature diminuiscono e si formano i ghiacci (massima estensione a marzo) mentre si sciolgono parzialmente \n",
    "# durante l'estate (minima estensione a settembre)"
   ]
  },
  {
   "cell_type": "code",
   "execution_count": null,
   "metadata": {
    "id": "f0ukNzlU9dsB",
    "outputId": "1dc8366a-c47e-4b0d-c955-2ea3f60ee9b6",
    "pycharm": {
     "name": "#%%\n"
    }
   },
   "outputs": [],
   "source": [
    "# considerando le diverse stagioni\n",
    "\n",
    "\n",
    "# polo sud\n",
    "\n",
    "# antarctic summer: february\n",
    "# antarctic winter: september\n",
    "\n",
    "icec = icec_data.icec.groupby('time.month').mean('time')  # medie di tutti i mesi per tutti gli anni\n",
    "\n",
    "# settembre\n",
    "fig = plt.figure(figsize=(16,12))\n",
    "extent = [180, -180 , -50 , -90]\n",
    "ax = plt.axes(projection=ccrs.Orthographic(central_longitude=0.0, central_latitude=-90))\n",
    "ax.set_extent(extent, ccrs.PlateCarree())\n",
    "p1a = icec.isel(month=8).plot(transform=ccrs.PlateCarree(),\n",
    "                                                       vmin=0,\n",
    "                                                       vmax=100,\n",
    "                                                       cmap=cmocean.cm.ice)\n",
    "ax.add_feature(cfeature.LAND,zorder=4,color='white')\n",
    "p1a.axes.coastlines()\n",
    "\n",
    "# febbraio\n",
    "fig = plt.figure(figsize=(16,12))\n",
    "extent = [180, -180 , -50 , -90]\n",
    "ax = plt.axes(projection=ccrs.Orthographic(central_longitude=0.0, central_latitude=-90))\n",
    "ax.set_extent(extent, ccrs.PlateCarree())\n",
    "p1a = icec.isel(month=1).plot(transform=ccrs.PlateCarree(),\n",
    "                                                       vmin=0,\n",
    "                                                       vmax=100,\n",
    "                                                       cmap=cmocean.cm.ice)\n",
    "ax.add_feature(cfeature.LAND,zorder=4,color='white')\n",
    "p1a.axes.coastlines()\n",
    "\n",
    "# in modo analogo si osserva per il polo sud"
   ]
  },
  {
   "cell_type": "markdown",
   "metadata": {
    "id": "vSEbGOfJ9dsC"
   },
   "source": [
    "## Analisi serie storiche e previsioni <a class=\"anchor\" id=\"serie-icec\"></a>"
   ]
  },
  {
   "cell_type": "code",
   "execution_count": null,
   "metadata": {
    "id": "62yIiA1I9dsC",
    "outputId": "d3aa9cb3-db7a-4d94-a99d-23b73e5a2429",
    "pycharm": {
     "name": "#%%\n"
    }
   },
   "outputs": [],
   "source": [
    "plt.figure(figsize=(20, 6))\n",
    "weights = np.cos(np.deg2rad(icec_data.icec.lat))  # sono i pesi\n",
    "weights.name = \"weights\"\n",
    "icec_weighted = icec_data.icec.weighted(weights)  # la variabile ora pesata, dopo di che posso calcolare la media come prima\n",
    "weighted_mean = icec_weighted.mean((\"lon\", \"lat\"))\n",
    "weighted_mean.plot()  # serie temporale mensile globale con media pesata\n",
    "\n",
    "weighted_mean.resample(time=\"Y\").mean().plot()  # serie temporale annuale globale con media pesata\n",
    "\n",
    "plt.legend([\"monthly time series\", \"annual time series\"], loc=0)\n",
    "plt.show()\n",
    "\n",
    "\n",
    "# per grafici interattivi\n",
    "# weights = np.cos(np.deg2rad(icec_data.icec.lat))\n",
    "# weights.name = \"weights\"\n",
    "# icec_weighted = icec_data.icec.weighted(weights)\n",
    "# weighted_mean = icec_weighted.mean((\"lon\", \"lat\"))\n",
    "# weighted_mean.hvplot()\n",
    "# weighted_mean.resample(time=\"Y\").mean().hvplot()\n",
    "\n",
    "\n",
    "# essendo i ghiacciai presenti ai poli questo tipo di informazione in cui si considera la media a livello globale non è del tutto rilevante. \n",
    "# Motivo per il quale nelle celle successive si procede ad analizzare l'area specifica nei pressi dei poli"
   ]
  },
  {
   "cell_type": "code",
   "execution_count": null,
   "metadata": {
    "id": "0FaWlbqs9dsC",
    "outputId": "9f65fdbd-214e-4c0c-ca46-4fb691072a82",
    "pycharm": {
     "name": "#%%\n"
    }
   },
   "outputs": [],
   "source": [
    "# senza media pesata\n",
    "# plt.figure(figsize=(20, 6))\n",
    "# icec_data.isel(lat=slice(0,24)).mean((\"lon\", \"lat\"), keep_attrs=True).icec.groupby(\"time.month\").mean(\"time\").plot()   \n",
    "# icec_data.isel(lat=slice(156,180)).mean((\"lon\", \"lat\"), keep_attrs=True).icec.groupby(\"time.month\").mean(\"time\").plot()  \n",
    "# plt.legend([\"north pole area\", \"south pole area\"], loc=0)\n",
    "# plt.show()\n",
    "\n",
    "\n",
    "# con media pesata\n",
    "plt.figure(figsize=(20, 6))\n",
    "icec_data.isel(lat=slice(0,24)).icec.weighted(weights).mean((\"lon\", \"lat\"), keep_attrs=True).groupby(\"time.month\").mean(\"time\").plot() \n",
    "icec_data.isel(lat=slice(156,180)).icec.weighted(weights).mean((\"lon\", \"lat\"), keep_attrs=True).groupby(\"time.month\").mean(\"time\").plot()  \n",
    "\n",
    "plt.legend([\"north pole area\", \"south pole area\"], loc=0)\n",
    "plt.show()\n",
    "\n",
    "# correttamente si vede che le stagioni sono invertite per i due emisferi"
   ]
  },
  {
   "cell_type": "markdown",
   "metadata": {
    "id": "htRNQS969dsC"
   },
   "source": [
    "### Polo nord <a class=\"anchor\" id=\"nord\"></a>"
   ]
  },
  {
   "cell_type": "code",
   "execution_count": null,
   "metadata": {
    "id": "JyXie_Gz9dsC",
    "outputId": "8ad388d3-2508-4b85-f2ef-862b5744642f",
    "pycharm": {
     "name": "#%%\n"
    }
   },
   "outputs": [],
   "source": [
    "# serie temporale mensile della zona del polo nord\n",
    "\n",
    "# icec_data.isel(lat=slice(0,24)).mean((\"lon\", \"lat\"), keep_attrs=True).icec.hvplot()\n",
    "icec_data.isel(lat=slice(0,24)).icec.weighted(weights).mean((\"lon\", \"lat\"), keep_attrs=True).hvplot()  # con media pesata\n",
    "\n",
    "# la concentrazione diminuisce tanto nel mese di settembre\n",
    "\n",
    "# sicuramente si vede un trend negativo che indica che la percentuale dei ghiacciai è diminuita nel tempo\n",
    "\n",
    "# inoltre si può osservare una varianza maggiore nei mesi estivi rispetto a quanto avveniva negli anni 90"
   ]
  },
  {
   "cell_type": "markdown",
   "metadata": {},
   "source": [
    "Si utilizza il modello Prophet, un modello sviluppato dall'unità di ricerca di Facebook per trattare serie storiche e fare previsioni"
   ]
  },
  {
   "cell_type": "code",
   "execution_count": null,
   "metadata": {
    "id": "3EWYcpjs9dsD",
    "outputId": "2a748369-d312-4572-b9a2-64f770743f39",
    "pycharm": {
     "name": "#%%\n"
    }
   },
   "outputs": [],
   "source": [
    "# preparazione dataset\n",
    "# icec_data_north = icec_data.isel(lat=slice(0,24)).mean((\"lon\", \"lat\"))\n",
    "icec_data_north = icec_data.isel(lat=slice(0,24)).icec.weighted(weights).mean((\"lon\", \"lat\"), keep_attrs=True)  # con media pesata\n",
    "icec_data_north = icec_data_north.to_dataframe()\n",
    "icec_data_north = icec_data_north.reset_index()\n",
    "icec_data_north = icec_data_north[['time', 'icec']]\n",
    "icec_data_north = icec_data_north.drop_duplicates()\n",
    "icec_data_north.rename(columns = {'time':'ds', 'icec':'y'}, inplace = True)\n",
    "\n",
    "# fit del modello\n",
    "m = Prophet(seasonality_mode='multiplicative').fit(icec_data_north)\n",
    "\n",
    "# set orizzonte futuro\n",
    "future = m.make_future_dataframe(periods=120 , freq='M')  # si fanno le previsioni 10 anni in avanti, fino a marzo 2032\n",
    "\n",
    "# calcolo previsioni\n",
    "fcst = m.predict(future)\n",
    "\n",
    "# visualizzazioni risultati\n",
    "fig = m.plot(fcst)\n",
    "# si nota che il trend è decisamente negativo come osservato anche in: \n",
    "# https://earthobservatory.nasa.gov/images/149627/antarctic-sea-ice-reaches-record-low\n",
    "\n",
    "a = add_changepoints_to_plot(fig.gca(), m, fcst)\n",
    "# i changepoints indicano dei punti in cui il trend ha cambiato in modo brusco la sua tendenza. In particolare il trend diventa negativo a \n",
    "# partire dagli anni 2003/2004, come confermato anche in https://www.reuters.com/article/us-arctic-ice-idUSTRE56673T20090707 e anche osservato\n",
    "# nella sezione precedente (Comparazione Northen e Southern Hemisphere Sea Ice Concentration anomaly)\n",
    "\n",
    "fig = m.plot_components(fcst)\n",
    "# si osserva la stagionalità mensile e in corrispondenza di settembre come indicato anche in \n",
    "# (https://climate.nasa.gov/vital-signs/arctic-sea-ice/) si ha la minima estensione di ghiaccio, come osservato anche dai grafici precedenti"
   ]
  },
  {
   "cell_type": "markdown",
   "metadata": {},
   "source": [
    "Si procede con una analisi più dettagliata della stagionalità"
   ]
  },
  {
   "cell_type": "code",
   "execution_count": null,
   "metadata": {
    "id": "tgvA6ufu9dsD",
    "outputId": "b967027e-3e39-4372-f2f1-dc8186ee01cd",
    "pycharm": {
     "name": "#%%\n"
    }
   },
   "outputs": [],
   "source": [
    "# preparazione dati e creazione nuove feature\n",
    "icec_data_north['ds'] = pd.to_datetime(icec_data_north['ds'])\n",
    "icec_data_north_ts = icec_data_north.set_index('ds')\n",
    "\n",
    "icec_data_north_ts['date'] = icec_data_north_ts.index\n",
    "icec_data_north_ts['month'] = icec_data_north_ts['date'].dt.month\n",
    "icec_data_north_ts['year'] = icec_data_north_ts['date'].dt.year\n",
    "icec_data_north_ts"
   ]
  },
  {
   "cell_type": "code",
   "execution_count": null,
   "metadata": {
    "id": "YFRZBJlC9dsD",
    "outputId": "a291175a-05ee-4e7a-e6b7-4ca8aaa1a024",
    "pycharm": {
     "name": "#%%\n"
    }
   },
   "outputs": [],
   "source": [
    "# visualizzazione stagionalità annuale e mensile\n",
    "fig, ax = plt.subplots(nrows=1, ncols=2, figsize=(20, 6))\n",
    "\n",
    "sns.boxplot(icec_data_north_ts['year'], icec_data_north_ts['y'], ax=ax[0])\n",
    "ax[0].set_xlabel('year', fontsize = 14, fontdict=dict(weight='bold'))\n",
    "ax[0].set_ylabel('y', fontsize = 14, fontdict=dict(weight='bold'))\n",
    "\n",
    "sns.boxplot(icec_data_north_ts['month'], icec_data_north_ts['y'], ax=ax[1])\n",
    "ax[1].set_xlabel('month', fontsize = 14, fontdict=dict(weight='bold'))\n",
    "ax[1].set_ylabel('y', fontsize = 14, fontdict=dict(weight='bold'))\n",
    "\n",
    "\n",
    "plt.show()\n",
    "# si nota una chiara stagionalità mensile, come osservato anche in precedenza"
   ]
  },
  {
   "cell_type": "code",
   "execution_count": null,
   "metadata": {
    "id": "2cO2rA_C9dsE",
    "outputId": "a7fa19d0-261f-4e49-e620-b9048a2af193",
    "pycharm": {
     "name": "#%%\n"
    }
   },
   "outputs": [],
   "source": [
    "# visualizzazione alternativa per confermare la presenza di stagionalità mensile\n",
    "plt.figure(figsize=(15, 6))\n",
    "sns.lineplot(icec_data_north_ts['month'], icec_data_north_ts['y'], hue=icec_data_north_ts['year'], ci=None, palette=\"plasma\")\n",
    "plt.title('Month plot of Value by year', fontsize = 15, loc='center', fontdict=dict(weight='bold'))\n",
    "plt.xlabel('Month', fontsize = 12)\n",
    "plt.ylabel('Value', fontsize = 12)\n",
    "plt.show()"
   ]
  },
  {
   "cell_type": "code",
   "execution_count": null,
   "metadata": {
    "id": "vQVlpzV69dsG",
    "outputId": "df335e32-de6c-4f01-f39c-80ad5eb383fd",
    "pycharm": {
     "name": "#%%\n"
    }
   },
   "outputs": [],
   "source": [
    "plt.figure(figsize=(15, 6))\n",
    "sns.lineplot(icec_data_north_ts['year'], icec_data_north_ts['y'], hue=icec_data_north_ts['month'])\n",
    "plt.title('Year plot of Value by Month', fontsize = 15, loc='center', fontdict=dict(weight='bold'))\n",
    "plt.xlabel('Year', fontsize = 12)\n",
    "plt.ylabel('Value', fontsize = 12)\n",
    "plt.show()"
   ]
  },
  {
   "cell_type": "markdown",
   "metadata": {
    "id": "ep-kqmBw9dsG"
   },
   "source": [
    "### Polo sud <a class=\"anchor\" id=\"sud\"></a>"
   ]
  },
  {
   "cell_type": "code",
   "execution_count": null,
   "metadata": {
    "id": "2uadfetf9dsG",
    "outputId": "b6a91387-94ea-42af-dffa-0b48102aed60",
    "pycharm": {
     "name": "#%%\n"
    }
   },
   "outputs": [],
   "source": [
    "# icec_data.isel(lat=slice(156,180)).mean((\"lon\", \"lat\"), keep_attrs=True).icec.hvplot()\n",
    "icec_data.isel(lat=slice(156,180)).icec.weighted(weights).mean((\"lon\", \"lat\"), keep_attrs=True).hvplot()  # con media pesata\n",
    "\n",
    "# rispetto al grafico relativo al polo nord ci sono più valori che si avvicinano alla percentuale 100%, indicando una maggiore presenza di \n",
    "# ghiaccio\n",
    "\n",
    "# dal momento in cui l'antartide è circondata completamente da oceani il ghiaccio che si forma in mare nei mesi invernali non viene vincolato \n",
    "# nella sua estensione da porzioni di terra ferma come avviene per l'area realativa la polo nord\n",
    "\n",
    "# durante i mesi estivi si scioglie il ghiaccio che si era formato durante i mesi invernali (da marzo a ottobre). Tuttavia in alcune aree \n",
    "# il ghiaccio permane durante tutto l'anno: si tratta ad esempio delle piattaforme di ghiaccio di Ross e di Larsen\n",
    "\n",
    "# prima i picchi negativi erano su settembre, ora su febbraio"
   ]
  },
  {
   "cell_type": "markdown",
   "metadata": {},
   "source": [
    "Si utilizza il modello Prophet, un modello sviluppato dall'unità di ricerca di Facebook per trattare serie storiche e fare previsioni"
   ]
  },
  {
   "cell_type": "code",
   "execution_count": null,
   "metadata": {
    "id": "223b73Y_9dsH",
    "outputId": "0d6df1f0-68fe-4419-deac-c614f7f39467",
    "pycharm": {
     "name": "#%%\n"
    }
   },
   "outputs": [],
   "source": [
    "# preparazione dataset\n",
    "# icec_data_south = icec_data.isel(lat=slice(156,180)).mean((\"lon\", \"lat\"))\n",
    "icec_data_south = icec_data.isel(lat=slice(156,180)).icec.weighted(weights).mean((\"lon\", \"lat\"), keep_attrs=True)  # con media pesata\n",
    "icec_data_south = icec_data_south.to_dataframe()\n",
    "icec_data_south = icec_data_south.reset_index()\n",
    "icec_data_south = icec_data_south[['time', 'icec']]\n",
    "icec_data_south = icec_data_south.drop_duplicates()\n",
    "icec_data_south.rename(columns = {'time':'ds', 'icec':'y'}, inplace = True)\n",
    "\n",
    "# fit modello\n",
    "m = Prophet(seasonality_mode='multiplicative').fit(icec_data_south)\n",
    "\n",
    "# set orizzonte temporale\n",
    "future = m.make_future_dataframe(periods=120 , freq='M')  # si fanno le previsioni 10 anni in avanti, fino a marzo 2032\n",
    "\n",
    "# calcolo previsioni\n",
    "fcst = m.predict(future)\n",
    "\n",
    "# visualizzazione risultati\n",
    "fig = m.plot(fcst)\n",
    "# anche in questo caso il trend è negativo per gli anni futuri, anche se in misura minore rispetto al caso precedente\n",
    "\n",
    "a = add_changepoints_to_plot(fig.gca(), m, fcst)\n",
    "# vengono indicati come change points gli anni prima del 2014. Proprio a partire dal 2014 l'estensione dei ghiacci in antartica ha iniziato \n",
    "# ad andare incontro ad un declino raggiungendo un minimo storico nel 2017\n",
    "# https://royalsociety.org/topics-policy/projects/climate-change-evidence-causes/question-12/\n",
    "# https://www.pnas.org/doi/10.1073/pnas.1906556116\n",
    "\n",
    "fig = m.plot_components(fcst)\n",
    "# in questo caso in marzo si misurano i valori più bassi"
   ]
  },
  {
   "cell_type": "markdown",
   "metadata": {},
   "source": [
    "Si procede con una analisi più dettagliata della stagionalità"
   ]
  },
  {
   "cell_type": "code",
   "execution_count": null,
   "metadata": {
    "id": "zaVBhZ689dsH",
    "outputId": "fcc1845b-519d-4156-b5fe-cd5ade7e16d3",
    "pycharm": {
     "name": "#%%\n"
    }
   },
   "outputs": [],
   "source": [
    "# preparazione dati e creazione nuove feature\n",
    "icec_data_south['ds'] = pd.to_datetime(icec_data_south['ds'])\n",
    "icec_data_south_ts = icec_data_south.set_index('ds')\n",
    "\n",
    "icec_data_south_ts['date'] = icec_data_south_ts.index\n",
    "icec_data_south_ts['month'] = icec_data_south_ts['date'].dt.month\n",
    "icec_data_south_ts['year'] = icec_data_south_ts['date'].dt.year\n",
    "\n",
    "icec_data_south_ts"
   ]
  },
  {
   "cell_type": "code",
   "execution_count": null,
   "metadata": {
    "id": "_nJbnWPv9dsI",
    "outputId": "66f9ee87-54bf-4190-9972-01391f92a0b6",
    "pycharm": {
     "name": "#%%\n"
    }
   },
   "outputs": [],
   "source": [
    "# visualizzazione stagionalità annuale e mensile\n",
    "fig, ax = plt.subplots(nrows=1, ncols=2, figsize=(20, 6))\n",
    "\n",
    "sns.boxplot(icec_data_south_ts['year'], icec_data_south_ts['y'], ax=ax[0])\n",
    "ax[0].set_xlabel('year', fontsize = 14, fontdict=dict(weight='bold'))\n",
    "ax[0].set_ylabel('y', fontsize = 14, fontdict=dict(weight='bold'))\n",
    "\n",
    "sns.boxplot(icec_data_south_ts['month'], icec_data_south_ts['y'], ax=ax[1])\n",
    "ax[1].set_xlabel('month', fontsize = 14, fontdict=dict(weight='bold'))\n",
    "ax[1].set_ylabel('y', fontsize = 14, fontdict=dict(weight='bold'))\n",
    "\n",
    "plt.show()\n",
    "\n",
    "# si nota una chiara stagionalità mensile, come osservato in precedenza"
   ]
  },
  {
   "cell_type": "code",
   "execution_count": null,
   "metadata": {
    "id": "qj-p_szO9dsI",
    "outputId": "0b03477c-323c-4402-a123-1c1984de4fd4",
    "pycharm": {
     "name": "#%%\n"
    }
   },
   "outputs": [],
   "source": [
    "# visualizzazione alternativa per confermare la presenza di stagionalità mensile\n",
    "plt.figure(figsize=(15, 6))\n",
    "sns.lineplot(icec_data_south_ts['month'], icec_data_south_ts['y'], hue=icec_data_south_ts['year'], ci=None, palette=\"plasma\")\n",
    "plt.title('Month plot of Value by year', fontsize = 15, loc='center', fontdict=dict(weight='bold'))\n",
    "plt.xlabel('Month', fontsize = 12)\n",
    "plt.ylabel('Value', fontsize = 12)\n",
    "plt.show()"
   ]
  },
  {
   "cell_type": "code",
   "execution_count": null,
   "metadata": {
    "id": "38QvIUAo9dsI",
    "outputId": "7b493a98-8509-4a3d-f277-18c6c0f5ff78",
    "pycharm": {
     "name": "#%%\n"
    }
   },
   "outputs": [],
   "source": [
    "plt.figure(figsize=(15, 6))\n",
    "sns.lineplot(icec_data_south_ts['year'], icec_data_south_ts['y'], hue=icec_data_south_ts['month'])\n",
    "plt.title('Year plot of Value by Month', fontsize = 15, loc='center', fontdict=dict(weight='bold'))\n",
    "plt.xlabel('Year', fontsize = 12)\n",
    "plt.ylabel('Value', fontsize = 12)\n",
    "plt.show()"
   ]
  },
  {
   "cell_type": "markdown",
   "metadata": {},
   "source": [
    "# Sea Surface Temperature data e Ice Concentration data <a class=\"anchor\" id=\"correlation-data\"></a>"
   ]
  },
  {
   "cell_type": "markdown",
   "metadata": {},
   "source": [
    "## Global Sea Surface Temperature e Ice Concentration Anomaly <a class=\"anchor\" id=\"global\"></a>"
   ]
  },
  {
   "cell_type": "code",
   "execution_count": null,
   "metadata": {},
   "outputs": [],
   "source": [
    "# anomalie sst\n",
    "\n",
    "fig,ax = plt.subplots(figsize=(10,7))\n",
    "# ds = sst_data.sst.mean(dim=['lat','lon'])  # per ogni istante temporale si ha un valore di sst che è la media delle sst di tutte le celle \n",
    "# in quell'istante temporale\n",
    "ds = sst_data.sst.weighted(weights).mean(dim=['lat','lon'])  # media pesata\n",
    "enso_clim = ds.sel(time=slice('1982-01-01','2010-12-01')).groupby(\"time.month\").mean(\"time\")  # sono le normali climatiche, per ogni mese si ha una media, \n",
    "# quindi si avrà ad esempio gennaio che è la media di tutti i gennai di tutti gli anni che si hanno a disposizione\n",
    "# ds.groupby(\"time.month\"): sono le osservazioni, si avranno X gennai, X febbrai tutti di anni diversi\n",
    "enso_anom_sst = ds.groupby(\"time.month\") - enso_clim\n",
    "enso_anom_sst.plot(color=\"black\")\n",
    "ax.axhline(y=0, c='black', linewidth=1, linestyle='dashdot')\n",
    "plt.title('Sea Surface Temperature anomaly')\n",
    "\n",
    "# effettivamente c'è stato sempre più un aumento di temperaturatura, delle anomalie positive in particolare negli ultimi anni\n",
    "# si registra una maggiore variabilità\n",
    "\n",
    "\n",
    "\n",
    "# anomalie sea ice\n",
    "\n",
    "fig,ax = plt.subplots(figsize=(10,7))\n",
    "# ds = icec_data.icec.mean(dim=['lat','lon'])\n",
    "ds = icec_data.icec.weighted(weights).mean(dim=['lat','lon'])  # media pesata\n",
    "enso_clim = ds.sel(time=slice('1982-01-01','2010-12-01')).groupby(\"time.month\").mean(\"time\")\n",
    "enso_anom_ice = ds.groupby(\"time.month\") - enso_clim\n",
    "enso_anom_ice.plot(color=\"black\")\n",
    "ax.axhline(y=0, c='black', linewidth=1, linestyle='dashdot')\n",
    "\n",
    "# effettivamente negli ultimi anni c'è stata una diminuzione di sea ice, tra il 2016 e il 2019 in particolare vi sono anomalie nettamente negative"
   ]
  },
  {
   "cell_type": "markdown",
   "metadata": {},
   "source": [
    "## Correlazione tra Sea Surface Temperature e Ice Concentration <a class=\"anchor\" id=\"correlation\"></a>"
   ]
  },
  {
   "cell_type": "code",
   "execution_count": null,
   "metadata": {
    "id": "7VGIFKvw9dsI",
    "outputId": "a9f0953e-c1cf-4587-db44-cfe8e3ed91ad",
    "pycharm": {
     "name": "#%%\n"
    }
   },
   "outputs": [],
   "source": [
    "# concentrandosi su una piccola porzione presa in modo arbitrario sarebbe interessante osservare e avere la conferma che ad un aumento della \n",
    "# temperatura corrisponde una diminuzione delle percentuali di ghiaccio\n",
    "\n",
    "icec_data.icec.groupby(\"time.month\").mean(\"time\")[:,2,80].hvplot()\n",
    "# si vede nel dettaglio ciò che è stato notato sopra, al polo nord nel mese di agosto settembre vi è la minore concentrazione di ghiaccio nelle acque"
   ]
  },
  {
   "cell_type": "code",
   "execution_count": null,
   "metadata": {
    "id": "i9xEEzvu9dsJ",
    "outputId": "6d69c22d-d3d3-4d3c-a300-76cb4a917c02",
    "pycharm": {
     "name": "#%%\n"
    }
   },
   "outputs": [],
   "source": [
    "sst_data.sst.groupby(\"time.month\").mean(\"time\")[:,2,80].hvplot()\n",
    "\n",
    "# effettivamente proprio ad agosto/settembre si nota un aumento seppur impercettibile delle temperature"
   ]
  },
  {
   "cell_type": "code",
   "execution_count": null,
   "metadata": {},
   "outputs": [],
   "source": [
    "fig, ax = plt.subplots(figsize=(12, 7))\n",
    "sns.regplot(sst_data.sst.weighted(weights).mean(dim=['lat', 'lon']),\n",
    "            icec_data.icec.weighted(weights).mean(dim=['lat', 'lon']), \n",
    "            data=icec_data.icec.weighted(weights).mean(dim=['lat', 'lon']), \n",
    "            fit_reg=True,\n",
    "            line_kws={\"linewidth\": 3, \"color\": \"tomato\"})\n",
    "ax.grid(linewidth=0.5)\n",
    "ax.set_ylabel('Sea Ice Concentration %')\n",
    "ax.set_xlabel('Sea Surface Temperature °C')\n",
    "ax.set_title('Correlation of Sea Ice Concentration and Sea Surface Temperature')\n",
    "plt.tight_layout()\n",
    "\n",
    "# osservando il grafico ottenuto la sea ice concentration diminuisce all'aumentare della sea surface temperature. E' possibile dunque concludere\n",
    "# che vi sia una correlazione negativa tra sea surface temperature e sea ice concentration"
   ]
  },
  {
   "cell_type": "code",
   "execution_count": null,
   "metadata": {},
   "outputs": [],
   "source": [
    "# si calcola l'indice di correlazione di Pearson\n",
    "corr, _ = pearsonr(sst_data.sst.weighted(weights).mean(dim=['lat', 'lon']), \n",
    "                   icec_data.icec.weighted(weights).mean(dim=['lat', 'lon']))\n",
    "print('Pearsons correlation: %.3f' % corr)\n",
    "# come previsto si ottiene un valore negativo"
   ]
  }
 ],
 "metadata": {
  "colab": {
   "collapsed_sections": [
    "ja0pT-uf9dr5",
    "AAgcc0sk9dr7",
    "wO7Ptkcf9dr8",
    "iMBL3KjI9dr9",
    "7NF8foZM9dr-",
    "MaF96h5f9dr_",
    "htRNQS969dsC",
    "ep-kqmBw9dsG"
   ],
   "name": "project_output_COLAB.ipynb",
   "provenance": [],
   "toc_visible": true
  },
  "kernelspec": {
   "display_name": "Python 3 (ipykernel)",
   "language": "python",
   "name": "python3"
  },
  "language_info": {
   "codemirror_mode": {
    "name": "ipython",
    "version": 3
   },
   "file_extension": ".py",
   "mimetype": "text/x-python",
   "name": "python",
   "nbconvert_exporter": "python",
   "pygments_lexer": "ipython3",
   "version": "3.9.7"
  },
  "toc-autonumbering": false,
  "toc-showcode": false
 },
 "nbformat": 4,
 "nbformat_minor": 4
}
